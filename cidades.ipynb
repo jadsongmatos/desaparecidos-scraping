{
 "cells": [
  {
   "cell_type": "code",
   "execution_count": 9,
   "metadata": {},
   "outputs": [
    {
     "ename": "ModuleNotFoundError",
     "evalue": "No module named 'pygeos'",
     "output_type": "error",
     "traceback": [
      "\u001b[0;31m---------------------------------------------------------------------------\u001b[0m",
      "\u001b[0;31mModuleNotFoundError\u001b[0m                       Traceback (most recent call last)",
      "Cell \u001b[0;32mIn[9], line 2\u001b[0m\n\u001b[1;32m      1\u001b[0m \u001b[38;5;28;01mimport\u001b[39;00m \u001b[38;5;21;01mgeopandas\u001b[39;00m \u001b[38;5;28;01mas\u001b[39;00m \u001b[38;5;21;01mgpd\u001b[39;00m\n\u001b[0;32m----> 2\u001b[0m \u001b[38;5;28;01mimport\u001b[39;00m \u001b[38;5;21;01mpygeos\u001b[39;00m\n\u001b[1;32m      3\u001b[0m \u001b[38;5;28;01mfrom\u001b[39;00m \u001b[38;5;21;01mshapely\u001b[39;00m\u001b[38;5;21;01m.\u001b[39;00m\u001b[38;5;21;01mgeometry\u001b[39;00m \u001b[38;5;28;01mimport\u001b[39;00m Point\n\u001b[1;32m      4\u001b[0m \u001b[38;5;28;01mfrom\u001b[39;00m \u001b[38;5;21;01mscipy\u001b[39;00m\u001b[38;5;21;01m.\u001b[39;00m\u001b[38;5;21;01mspatial\u001b[39;00m \u001b[38;5;28;01mimport\u001b[39;00m cKDTree\n",
      "\u001b[0;31mModuleNotFoundError\u001b[0m: No module named 'pygeos'"
     ]
    }
   ],
   "source": [
    "import geopandas as gpd\n",
    "import pygeos\n",
    "from shapely.geometry import Point\n",
    "from scipy.spatial import cKDTree\n",
    "import numpy as np\n",
    "\n",
    "# Carregar apenas as colunas necessárias para minimizar o uso de memória\n",
    "gdf = gpd.read_file('cidades.geojson', usecols=['geometry'])\n",
    "\n",
    "# Assegure-se de que o GeoDataFrame está no sistema de coordenadas adequado (e.g., WGS84)\n",
    "gdf = gdf.to_crs(epsg=4326)\n",
    "\n",
    "# Extraia as coordenadas dos centróides\n",
    "# Usando PyGEOS para melhor performance\n",
    "geometries = pygeos.from_shapely(gdf.geometry.values.data)\n",
    "centroids = pygeos.centroid(geometries)\n",
    "coords = pygeos.get_coordinates(centroids)\n",
    "\n",
    "# Construir a KD-Tree\n",
    "tree = cKDTree(coords)\n",
    "\n",
    "# Definir a coordenada de interesse\n",
    "# Atenção: Certifique-se de que as coordenadas estão no mesmo sistema de referência\n",
    "ponto = Point(-42, -24)  # (longitude, latitude)\n",
    "ponto_coords = np.array([ponto.x, ponto.y])\n",
    "\n",
    "# Consultar a KD-Tree para encontrar a cidade mais próxima\n",
    "distancia, indice = tree.query(ponto_coords)\n",
    "\n",
    "# Obter a cidade mais próxima\n",
    "cidade_proxima = gdf.iloc[indice]\n",
    "\n",
    "print(f\"A cidade mais próxima é: {cidade_proxima}\")\n",
    "print(f\"Distância: {distancia} graus\")  # Converter para unidades mais úteis se necessário"
   ]
  }
 ],
 "metadata": {
  "kernelspec": {
   "display_name": "base",
   "language": "python",
   "name": "python3"
  },
  "language_info": {
   "codemirror_mode": {
    "name": "ipython",
    "version": 3
   },
   "file_extension": ".py",
   "mimetype": "text/x-python",
   "name": "python",
   "nbconvert_exporter": "python",
   "pygments_lexer": "ipython3",
   "version": "3.12.2"
  }
 },
 "nbformat": 4,
 "nbformat_minor": 2
}
