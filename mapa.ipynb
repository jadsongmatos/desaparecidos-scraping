{
 "cells": [
  {
   "cell_type": "code",
   "execution_count": 1,
   "metadata": {},
   "outputs": [],
   "source": [
    "import requests\n",
    "from PIL import Image\n",
    "from io import BytesIO\n",
    "import matplotlib.pyplot as plt"
   ]
  },
  {
   "cell_type": "code",
   "execution_count": 7,
   "metadata": {},
   "outputs": [],
   "source": [
    "# Dados do serviço WMS\n",
    "WMS_URL = \"http://mapsref.brgm.fr/wxs/1GG/CGMW_Bedrock_and_Structural_Geology\"\n",
    "LAYERS = \"World_CGMW_50M_GeologicalUnitsOnshore\"\n",
    "CRS = \"EPSG:4326\"\n",
    "VERSION = \"1.3.0\"  # Versão do WMS\n",
    "\n",
    "# Coordenadas de interesse (Exemplo: São Paulo)\n",
    "latitude = -23.5505\n",
    "longitude = -46.6333\n",
    "\n",
    "# Tamanho da imagem (em pixels)\n",
    "WIDTH = 100\n",
    "HEIGHT = 100\n",
    "\n",
    "# Definir a extensão (bounding box) ao redor da coordenada\n",
    "BUFFER_DEGREES = 10 #0.05  # Aproximadamente ~5 km\n",
    "\n",
    "# Para WMS 1.3.0 com CRS=EPSG:4326, a ordem é [min_lat, min_lon, max_lat, max_lon]\n",
    "bbox = [\n",
    "    latitude - BUFFER_DEGREES,  # min_lat\n",
    "    longitude - BUFFER_DEGREES,  # min_lon\n",
    "    latitude + BUFFER_DEGREES,  # max_lat\n",
    "    longitude + BUFFER_DEGREES   # max_lon\n",
    "]\n",
    "\n",
    "# Parâmetros da solicitação WMS GetMap\n",
    "params = {\n",
    "    \"SERVICE\": \"WMS\",\n",
    "    \"VERSION\": VERSION,\n",
    "    \"REQUEST\": \"GetMap\",\n",
    "    \"LAYERS\": LAYERS,\n",
    "    \"CRS\": CRS,\n",
    "    \"BBOX\": \",\".join(map(str, bbox)),\n",
    "    \"WIDTH\": WIDTH,\n",
    "    \"HEIGHT\": HEIGHT,\n",
    "    \"FORMAT\": \"image/png\",\n",
    "    \"TRANSPARENT\": \"TRUE\",\n",
    "    \"STYLES\": \"\"  # Parâmetro obrigatório, mesmo que vazio\n",
    "}"
   ]
  },
  {
   "cell_type": "code",
   "execution_count": 8,
   "metadata": {},
   "outputs": [
    {
     "data": {
      "image/png": "[encoded data removed]",
      "text/plain": [
       "<Figure size 800x800 with 1 Axes>"
      ]
     },
     "metadata": {},
     "output_type": "display_data"
    },
    {
     "name": "stdout",
     "output_type": "stream",
     "text": [
      "Coordenadas: Latitude -23.5505, Longitude -46.6333\n",
      "Pixel: (50, 99)\n",
      "Cor RGBA: (0, 0, 0, 0)\n"
     ]
    }
   ],
   "source": [
    "# Fazer a solicitação GET ao serviço WMS\n",
    "response = requests.get(WMS_URL, params=params)\n",
    "\n",
    "# Verificar se a solicitação foi bem-sucedida\n",
    "if response.status_code == 200:\n",
    "    # Abrir a imagem usando Pillow\n",
    "    image = Image.open(BytesIO(response.content)).convert(\"RGBA\")\n",
    "    \n",
    "    # Exibir a imagem no Jupyter Notebook usando matplotlib\n",
    "    plt.figure(figsize=(8, 8))\n",
    "    plt.imshow(image)\n",
    "    plt.title(f\"Mapa de {LAYERS}\")\n",
    "    plt.axis('off')  # Ocultar eixos\n",
    "    plt.show()\n",
    "    \n",
    "    # Calcular a posição do pixel correspondente à latitude e longitude\n",
    "    # Para WMS 1.3.0 com CRS=EPSG:4326, a ordem é [min_lat, min_lon, max_lat, max_lon]\n",
    "    y_fraction = (bbox[3] - latitude) / (bbox[3] - bbox[0])  # Inverter Y porque as imagens começam do topo\n",
    "    x_fraction = (longitude - bbox[1]) / (bbox[3] - bbox[1])\n",
    "    \n",
    "    pixel_x = int(x_fraction * WIDTH)\n",
    "    pixel_y = int(y_fraction * HEIGHT)\n",
    "    \n",
    "    # Garantir que os valores dos pixels estejam dentro dos limites da imagem\n",
    "    pixel_x = max(0, min(WIDTH - 1, pixel_x))\n",
    "    pixel_y = max(0, min(HEIGHT - 1, pixel_y))\n",
    "    \n",
    "    # Obter a cor do pixel\n",
    "    pixel_color = image.getpixel((pixel_x, pixel_y))\n",
    "    \n",
    "    print(f\"Coordenadas: Latitude {latitude}, Longitude {longitude}\")\n",
    "    print(f\"Pixel: ({pixel_x}, {pixel_y})\")\n",
    "    print(f\"Cor RGBA: {pixel_color}\")\n",
    "else:\n",
    "    print(f\"Erro na solicitação WMS: {response.status_code}\")\n",
    "    # Opcional: Exibir o conteúdo da resposta para depuração\n",
    "    print(response.text)"
   ]
  },
  {
   "cell_type": "code",
   "execution_count": 1,
   "metadata": {},
   "outputs": [],
   "source": [
    "import rasterio\n",
    "from rasterio.transform import from_origin\n",
    "import numpy as np\n",
    "\n",
    "def obter_cor(mapa_path, latitude, longitude):\n",
    "    \"\"\"\n",
    "    Obtém a cor (RGB) no ponto especificado por latitude e longitude.\n",
    "\n",
    "    :param mapa_path: Caminho para o arquivo raster (mapa.tif)\n",
    "    :param latitude: Latitude do ponto\n",
    "    :param longitude: Longitude do ponto\n",
    "    :return: Tuple contendo (R, G, B) ou None se o ponto estiver fora do raster\n",
    "    \"\"\"\n",
    "    with rasterio.open(mapa_path) as src:\n",
    "        # Verifica se o CRS é geográfico (WGS84)\n",
    "        if src.crs.to_string() != 'EPSG:4326':\n",
    "            raise ValueError(\"O CRS do raster não é EPSG:4326 (WGS84).\")\n",
    "\n",
    "        # Transforma as coordenadas geográficas para coordenadas de pixel\n",
    "        try:\n",
    "            px, py = src.index(longitude, latitude)\n",
    "        except ValueError:\n",
    "            print(\"As coordenadas fornecidas estão fora do raster.\")\n",
    "            return None\n",
    "\n",
    "        # Verifica se os pixels estão dentro dos limites\n",
    "        if (px < 0 or px >= src.width) or (py < 0 or py >= src.height):\n",
    "            print(\"As coordenadas fornecidas estão fora do raster.\")\n",
    "            return None\n",
    "\n",
    "        # Supondo que o raster tem 3 bandas (RGB)\n",
    "        bandas = src.read([1, 2, 3])  # Lê as bandas R, G e B\n",
    "\n",
    "        # Obtém os valores das bandas no pixel específico\n",
    "        R = bandas[0, py, px]\n",
    "        G = bandas[1, py, px]\n",
    "        B = bandas[2, py, px]\n",
    "\n",
    "        return (R, G, B)"
   ]
  },
  {
   "cell_type": "code",
   "execution_count": null,
   "metadata": {},
   "outputs": [],
   "source": [
    "import pandas as pd\n",
    "\n",
    "data = {\n",
    "  \"Cor\": [\"f2ff59\", \"73f2a6\", \"e6bf4c\", \"bf8040\", \"ffb233\", \"ffb2b2\", \"ff99e6\", \"99e633\", \"66d933\", \"d98c33\", \"bf73ff\", \"ff738c\", \"ff9980\", \"e6a6ff\", \"ff8cb2\", \"ffb2d9\", \"ff73cc\", \"1ac1ff\", \"e6bf4c\", \"bf8040\", \"ffb266\", \"ffb2b2\", \"ff99e6\", \"d9d966\", \"99e633\", \"66d933\", \"ffbf40\", \"ff9980\", \"ffb2d9\", \"bf73ff\", \"f2ff59\", \"73f2a6\", \"e6bf4c\", \"bf8040\", \"ffb266\", \"ffb2b2\", \"ff99e6\", \"d9d966\", \"99e633\", \"66d933\", \"d98c33\", \"ffbf40\", \"f273a6\", \"ff9980\", \"ffb2d9\", \"ff73cc\", \"f259f8\", \"bf73ff\", \"c0bebd\", \"f259f8\", \"d9d9f2\", \"d9d9f2\", \"99e6e6\", \"fd2b1b\", \"26ff80\", \"fff2e6\"],\n",
    "  \"Tipo de Crosta\": [\"Continental\", \"Continental\", \"Continental\", \"Continental\", \"Continental\", \"Continental\", \"Continental\", \"Continental\", \"Continental\", \"Continental\", \"Continental\", \"Continental\", \"Continental\", \"Continental\", \"Continental\", \"Continental\", \"Continental\", \"Continental\", \"Continental\", \"Continental\", \"Continental\", \"Continental\", \"Continental\", \"Continental\", \"Continental\", \"Continental\", \"Continental\", \"Continental\", \"Continental\", \"Continental\", \"Continental\", \"Continental\", \"Continental\", \"Continental\", \"Continental\", \"Continental\", \"Continental\", \"Continental\", \"Continental\", \"Continental\", \"Continental\", \"Continental\", \"Continental\", \"Continental\", \"Continental\", \"Continental\", \"Continental\", \"Continental\", \"Continental\", \"Continental\", \"Glacial\", \"Subglacial\", \"Extensão\", \"Igneosa\", \"Ophiolítica\", \"Continental ou Insular\"],\n",
    "  \"Tipo de Rocha\": [\"Rochas sedimentares ou facies indiferenciadas\", \"Rochas sedimentares ou facies indiferenciadas\", \"Rochas sedimentares ou facies indiferenciadas\", \"Rochas sedimentares ou facies indiferenciadas\", \"Rochas sedimentares ou facies indiferenciadas\", \"Rochas sedimentares ou facies indiferenciadas\", \"Rochas sedimentares ou facies indiferenciadas\", \"Rochas sedimentares ou facies indiferenciadas\", \"Rochas sedimentares ou facies indiferenciadas\", \"Rochas sedimentares ou facies indiferenciadas\", \"Rochas sedimentares ou facies indiferenciadas\", \"Rochas sedimentares ou facies indiferenciadas\", \"Rochas sedimentares ou facies indiferenciadas\", \"Rochas sedimentares ou facies indiferenciadas\", \"Rochas sedimentares ou facies indiferenciadas\", \"Rochas sedimentares ou facies indiferenciadas\", \"Rochas sedimentares ou facies indiferenciadas\", \"Rochas vulcânicas extrusivas (exceção traps)\", \"Rochas vulcânicas extrusivas (exceção traps)\", \"Rochas vulcânicas extrusivas (exceção traps)\", \"Rochas vulcânicas extrusivas (exceção traps)\", \"Rochas vulcânicas extrusivas (exceção traps)\", \"Rochas vulcânicas extrusivas (exceção traps)\", \"Rochas vulcânicas extrusivas (exceção traps)\", \"Rochas vulcânicas extrusivas (exceção traps)\", \"Rochas vulcânicas extrusivas (exceção traps)\", \"Rochas vulcânicas extrusivas (exceção traps)\", \"Rochas vulcânicas extrusivas (exceção traps)\", \"Rochas vulcânicas extrusivas (exceção traps)\", \"Rochas vulcânicas extrusivas (exceção traps)\", \"Rochas endógenas (plutônicas e/ou metamórficas)\", \"Rochas endógenas (plutônicas e/ou metamórficas)\", \"Rochas endógenas (plutônicas e/ou metamórficas)\", \"Rochas endógenas (plutônicas e/ou metamórficas)\", \"Rochas endógenas (plutônicas e/ou metamórficas)\", \"Rochas endógenas (plutônicas e/ou metamórficas)\", \"Rochas endógenas (plutônicas e/ou metamórficas)\", \"Rochas endógenas (plutônicas e/ou metamórficas)\", \"Rochas endógenas (plutônicas e/ou metamórficas)\", \"Rochas endógenas (plutônicas e/ou metamórficas)\", \"Rochas endógenas (plutônicas e/ou metamórficas)\", \"Rochas endógenas (plutônicas e/ou metamórficas)\", \"Rochas endógenas (plutônicas e/ou metamórficas)\", \"Rochas endógenas (plutônicas e/ou metamórficas)\", \"Rochas endógenas (plutônicas e/ou metamórficas)\", \"Rochas endógenas (plutônicas e/ou metamórficas)\", \"Rochas endógenas (plutônicas e/ou metamórficas)\", \"Rochas endógenas (plutônicas e/ou metamórficas)\", \"Rochas endógenas (plutônicas e/ou metamórficas)\", \"Facies indiferenciadas\", \"Geada interna, Gelo\", \"Rochas subglaciais, Localizadas abaixo do nível do mar (cobertura de gelo da Antártida e Groenlândia)\", \"Plataforma de gelo (Antártida)\", \"Província Igneosa (LIP): Traps com indicação de idade média em Ma\", \"Complexo Mesozoolítico-Cenozoico, Idade\", \"Plataforma continental (profundidade menor que 200 m), Exceto Antártida\"],\n",
    "  \"Idade Geológica\": [\"Cenozoico\", \"Mesozoico\", \"Paleozóico Superior\", \"Paleozóico Inferior\", \"Neoproterozoico\", \"Mesoproterozoico\", \"Paleoproterozoico\", \"Mesozoico a Paleozóico Superior\", \"Mesozoico a Paleozóico\", \"Paleozóico\", \"Paleoproterozoico a Arqueano\", \"Paleozóico a Pré-Cambriano\", \"Neoproterozoico a Paleozóico Inferior\", \"Mesoproterozoico a Paleoproterozoico\", \"Neoproterozoico a Mesoproterozoico\", \"Proterozoico\", \"Pré-Cambriano\", \"Cenozoico\", \"Paleozóico Superior\", \"Paleozóico Inferior\", \"Neoproterozoico\", \"Mesoproterozoico\", \"Paleoproterozoico\", \"Cenozoico a Mesozoico\", \"Mesozoico a Paleozóico Superior\", \"Mesozoico a Paleozóico\", \"Paleozóico a Neoproterozoico\", \"Paleozóico Inferior a Neoproterozoico\", \"Proterozoico\", \"Paleoproterozoico a Arqueano\", \"Cenozoico\", \"Mesozoico\", \"Paleozóico Superior\", \"Paleozóico Inferior\", \"Neoproterozoico\", \"Mesoproterozoico\", \"Paleoproterozoico\", \"Cenozoico a Mesozoico\", \"Mesozoico a Paleozóico Superior\", \"Mesozoico a Paleozóico\", \"Paleozóico\", \"Paleozóico a Neoproterozoico\", \"Paleozóico a Paleoproterozoico\", \"Paleozóico Inferior a Neoproterozoico\", \"Proterozoico\", \"Pré-Cambriano\", \"Mesoproterozoico a Arqueano\", \"Paleoproterozoico a Arqueano\", \"Idade desconhecida\", \"Arqueano\", \"-\", \"-\", \"-\", \"-\", \"-\", \"-\"]\n",
    "}\n",
    "\n",
    "df = pd.DataFrame(data)"
   ]
  },
  {
   "cell_type": "code",
   "execution_count": 1,
   "metadata": {},
   "outputs": [
    {
     "ename": "NameError",
     "evalue": "name 'obter_cor' is not defined",
     "output_type": "error",
     "traceback": [
      "\u001b[0;31m---------------------------------------------------------------------------\u001b[0m",
      "\u001b[0;31mNameError\u001b[0m                                 Traceback (most recent call last)",
      "Cell \u001b[0;32mIn[1], line 5\u001b[0m\n\u001b[1;32m      2\u001b[0m latitude \u001b[38;5;241m=\u001b[39m \u001b[38;5;241m-\u001b[39m\u001b[38;5;241m23.5505\u001b[39m    \u001b[38;5;66;03m# Exemplo: Latitude de São Paulo\u001b[39;00m\n\u001b[1;32m      3\u001b[0m longitude \u001b[38;5;241m=\u001b[39m \u001b[38;5;241m-\u001b[39m\u001b[38;5;241m46.6333\u001b[39m   \u001b[38;5;66;03m# Exemplo: Longitude de São Paulo\u001b[39;00m\n\u001b[0;32m----> 5\u001b[0m cor \u001b[38;5;241m=\u001b[39m obter_cor(mapa_caminho, latitude, longitude)\n\u001b[1;32m      6\u001b[0m \u001b[38;5;28;01mif\u001b[39;00m cor:\n\u001b[1;32m      7\u001b[0m \t\u001b[38;5;28mprint\u001b[39m(\u001b[38;5;124mf\u001b[39m\u001b[38;5;124m\"\u001b[39m\u001b[38;5;124mA cor no ponto (\u001b[39m\u001b[38;5;132;01m{\u001b[39;00mlatitude\u001b[38;5;132;01m}\u001b[39;00m\u001b[38;5;124m, \u001b[39m\u001b[38;5;132;01m{\u001b[39;00mlongitude\u001b[38;5;132;01m}\u001b[39;00m\u001b[38;5;124m) é RGB: \u001b[39m\u001b[38;5;132;01m{\u001b[39;00mcor\u001b[38;5;132;01m}\u001b[39;00m\u001b[38;5;124m\"\u001b[39m)\n",
      "\u001b[0;31mNameError\u001b[0m: name 'obter_cor' is not defined"
     ]
    }
   ],
   "source": [
    "mapa_caminho = './mapa/mapa.tif'  # Atualize para o caminho correto\n",
    "latitude = -23.5505    # Exemplo: Latitude de São Paulo\n",
    "longitude = -46.6333   # Exemplo: Longitude de São Paulo\n",
    "\n",
    "cor = obter_cor(mapa_caminho, latitude, longitude)\n",
    "if cor:\n",
    "\tprint(f\"A cor no ponto ({latitude}, {longitude}) é RGB: {cor}\")\n",
    "else:\n",
    "\tprint(\"Não foi possível obter a cor no ponto especificado.\")"
   ]
  },
  {
   "cell_type": "code",
   "execution_count": 2,
   "metadata": {},
   "outputs": [
    {
     "data": {
      "text/plain": [
       "id                          node/30674098\n",
       "name                            São Paulo\n",
       "geometry    POINT (-46.633382 -23.550651)\n",
       "Name: 3654, dtype: object"
      ]
     },
     "execution_count": 2,
     "metadata": {},
     "output_type": "execute_result"
    }
   ],
   "source": [
    "import geopandas as gpd\n",
    "from scipy.spatial import KDTree\n",
    "import pandas as pd\n",
    "\n",
    "# Carrega o arquivo GeoJSON\n",
    "gdf = gpd.read_file('simplified_cities.geojson')\n",
    "\n",
    "# Garante que o CRS esteja definido como WGS84\n",
    "gdf.set_crs(epsg=4326, inplace=True)\n",
    "\n",
    "# Extrai as coordenadas (longitude, latitude) e converte para radianos\n",
    "coords = list(zip(gdf.geometry.x, gdf.geometry.y))\n",
    "\n",
    "# Constrói o KD-Tree\n",
    "tree = KDTree(coords)\n",
    "\n",
    "point = (longitude, latitude)  # KDTree espera (x, y) = (longitude, latitude)\n",
    "\n",
    "# Consulta o vizinho mais próximo\n",
    "distance, index = tree.query(point)\n",
    "\n",
    "nearest_city = gdf.iloc[index]\n",
    "nearest_city"
   ]
  }
 ],
 "metadata": {
  "kernelspec": {
   "display_name": "base",
   "language": "python",
   "name": "python3"
  },
  "language_info": {
   "codemirror_mode": {
    "name": "ipython",
    "version": 3
   },
   "file_extension": ".py",
   "mimetype": "text/x-python",
   "name": "python",
   "nbconvert_exporter": "python",
   "pygments_lexer": "ipython3",
   "version": "3.12.2"
  }
 },
 "nbformat": 4,
 "nbformat_minor": 2
}
