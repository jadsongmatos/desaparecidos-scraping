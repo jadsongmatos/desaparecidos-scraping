{
 "cells": [
  {
   "cell_type": "code",
   "execution_count": null,
   "metadata": {},
   "outputs": [],
   "source": [
    "import requests\n",
    "from tenacity import retry, stop_after_attempt, wait_fixed\n",
    "import requests_cache"
   ]
  },
  {
   "cell_type": "code",
   "execution_count": 3,
   "metadata": {},
   "outputs": [],
   "source": [
    "import duckdb\n",
    "from tqdm import tqdm\n",
    "conn = duckdb.connect(\"dados_namus.duckdb\")"
   ]
  },
  {
   "cell_type": "code",
   "execution_count": 2,
   "metadata": {},
   "outputs": [],
   "source": [
    "# Configuração do cache em disco (o arquivo 'namus_cache' armazenará as respostas)\n",
    "requests_cache.install_cache('namus_cache', expire_after=86400)  # 1 dia de cache"
   ]
  },
  {
   "cell_type": "code",
   "execution_count": 3,
   "metadata": {},
   "outputs": [],
   "source": [
    "@retry(stop=stop_after_attempt(5), wait=wait_fixed(2))\n",
    "def make_request(url, payload=None, headers=None, method=\"POST\"):\n",
    "    try:\n",
    "        if method == \"POST\":\n",
    "            response = requests.post(url, json=payload, headers=headers)\n",
    "        elif method == \"GET\":\n",
    "            response = requests.get(url, headers=headers)\n",
    "        response.raise_for_status()\n",
    "        return response.json()\n",
    "    except requests.exceptions.HTTPError as e:\n",
    "        print(f\"Erro HTTP {response.status_code}: {response.text}\")\n",
    "        raise"
   ]
  },
  {
   "cell_type": "code",
   "execution_count": 4,
   "metadata": {},
   "outputs": [
    {
     "data": {
      "text/plain": [
       "'\\ndef save_records_to_duckdb(records, conn):\\n    \\n    #Função auxiliar para salvar uma lista de registros no DuckDB.\\n\\n    for record in records:\\n        conn.execute(\"INSERT INTO UnidentifiedPersons VALUES (?, ?, ?, ?, ?, ?, ?, ?, ?, ?, ?, ?, ?)\", (\\n            record.get(\\'idFormatted\\'),\\n            record.get(\\'caseNumber\\'),\\n            record.get(\\'dateFound\\'),\\n            record.get(\\'estimatedAgeFrom\\'),\\n            record.get(\\'estimatedAgeTo\\'),\\n            record.get(\\'cityOfRecovery\\'),\\n            record.get(\\'countyDisplayNameOfRecovery\\'),\\n            record.get(\\'stateOfRecovery\\'),\\n            record.get(\\'sex\\'),\\n            record.get(\\'raceEthnicity\\'),\\n            record.get(\\'modifiedDateTime\\'),\\n            record.get(\\'namus2Number\\'),\\n            record.get(\\'stateDisplayNameOfRecovery\\')\\n        ))\\n'"
      ]
     },
     "execution_count": 4,
     "metadata": {},
     "output_type": "execute_result"
    }
   ],
   "source": [
    "\"\"\"\n",
    "def save_records_to_duckdb(records, conn):\n",
    "    \n",
    "    #Função auxiliar para salvar uma lista de registros no DuckDB.\n",
    "\n",
    "    for record in records:\n",
    "        conn.execute(\"INSERT INTO UnidentifiedPersons VALUES (?, ?, ?, ?, ?, ?, ?, ?, ?, ?, ?, ?, ?)\", (\n",
    "            record.get('idFormatted'),\n",
    "            record.get('caseNumber'),\n",
    "            record.get('dateFound'),\n",
    "            record.get('estimatedAgeFrom'),\n",
    "            record.get('estimatedAgeTo'),\n",
    "            record.get('cityOfRecovery'),\n",
    "            record.get('countyDisplayNameOfRecovery'),\n",
    "            record.get('stateOfRecovery'),\n",
    "            record.get('sex'),\n",
    "            record.get('raceEthnicity'),\n",
    "            record.get('modifiedDateTime'),\n",
    "            record.get('namus2Number'),\n",
    "            record.get('stateDisplayNameOfRecovery')\n",
    "        ))\n",
    "\"\"\""
   ]
  },
  {
   "cell_type": "code",
   "execution_count": 5,
   "metadata": {},
   "outputs": [],
   "source": [
    "import json\n",
    "\n",
    "headers = {\n",
    "\t'Content-Type': 'application/json'\n",
    "}\n",
    "\n",
    "def save_records_to_duckdb(records, conn):\n",
    "    for record in records:\n",
    "        # Realiza uma segunda requisição via GET para obter dados detalhados de cada caso\n",
    "        details_url = f'https://www.namus.gov/api/CaseSets/NamUs/MissingPersons/Cases/{record[\"idFormatted\"].replace(\"MP\", \"\")}'\n",
    "        details = make_request(details_url, method=\"GET\")\n",
    "        \n",
    "        # Verifique se o índice existe antes de acessar listas de detalhes e define None se não existir\n",
    "        image_href = details.get('images', [{}])[0].get('files', {}).get('original', {}).get('href') if details.get('images') else None\n",
    "        investigating_agency_name = details.get('investigatingAgencies', [{}])[0].get('name') if details.get('investigatingAgencies') else None\n",
    "        investigating_case_number = details.get('investigatingAgencies', [{}])[0].get('caseNumber') if details.get('investigatingAgencies') else None\n",
    "        case_date_reported = details.get('investigatingAgencies', [{}])[0].get('dateReported') if details.get('investigatingAgencies') else None\n",
    "\n",
    "        vehicles_json = json.dumps(details.get('vehicles', None))\n",
    "\n",
    "        conn.execute(\"\"\"\n",
    "            INSERT INTO MissingPersons VALUES (?, ?, ?, ?, ?, ?, ?, ?, ?, ?, ?, ?, ?, ?, ?, ?, ?, ?, ?, ?, ?, ?, ?, ?, ?, ?, ?, ?, ?, ?, ?)\n",
    "        \"\"\", (\n",
    "            details.get('idFormatted', None),\n",
    "            details.get('createdDateTime', None),\n",
    "            details.get('modifiedDateTime', None),\n",
    "            details.get('subjectIdentification', {}).get('firstName', None),\n",
    "            details.get('subjectIdentification', {}).get('middleName', None),\n",
    "            details.get('subjectIdentification', {}).get('lastName', None),\n",
    "            details.get('subjectIdentification', {}).get('computedMissingMinAge', None),\n",
    "            details.get('subjectIdentification', {}).get('computedMissingMaxAge', None),\n",
    "            details.get('circumstances', {}).get('circumstancesOfDisappearance', None),\n",
    "            details.get('subjectDescription', {}).get('sex', {}).get('name', None),\n",
    "            details.get('physicalDescription', {}).get('hairColor', {}).get('name', None),\n",
    "            details.get('physicalDescription', {}).get('leftEyeColor', {}).get('name', None),\n",
    "            details.get('physicalDescription', {}).get('rightEyeColor', {}).get('name', None),\n",
    "            details.get('subjectDescription', {}).get('primaryEthnicity', {}).get('name', None),\n",
    "            details.get('sighting', {}).get('date', None),\n",
    "            details.get('sighting', {}).get('address', {}).get('city', None),\n",
    "            details.get('sighting', {}).get('address', {}).get('state', {}).get('displayName', None),\n",
    "            details.get('sighting', {}).get('address', {}).get('county', {}).get('displayName', None),\n",
    "            image_href,\n",
    "            details.get('sighting', {}).get('publicGeolocation', {}).get('coordinates', {}).get('lat', None),\n",
    "            details.get('sighting', {}).get('publicGeolocation', {}).get('coordinates', {}).get('lon', None),\n",
    "            details.get('primaryInvestigatingAgency', {}).get('name', None),\n",
    "            investigating_agency_name,\n",
    "            investigating_case_number,\n",
    "            case_date_reported,\n",
    "            details.get('permissionToPublish', None),\n",
    "            details.get('viewPermission', None),\n",
    "            details.get('hrefDefaultImageThumbnail', None),\n",
    "            details.get('hrefQRCode', None),\n",
    "            details.get('caseIsResolved', None),\n",
    "            vehicles_json\n",
    "        ))"
   ]
  },
  {
   "cell_type": "code",
   "execution_count": 7,
   "metadata": {},
   "outputs": [
    {
     "data": {
      "text/plain": [
       "<duckdb.duckdb.DuckDBPyConnection at 0x7229e3596170>"
      ]
     },
     "execution_count": 7,
     "metadata": {},
     "output_type": "execute_result"
    }
   ],
   "source": [
    "conn.execute(\"\"\"\n",
    "    CREATE TABLE IF NOT EXISTS MissingPersons (\n",
    "        idFormatted TEXT,\n",
    "        createdDateTime TEXT,\n",
    "        modifiedDateTime TEXT,\n",
    "        firstName TEXT,\n",
    "        middleName TEXT,\n",
    "        lastName TEXT,\n",
    "        computedMissingMinAge INTEGER,\n",
    "        computedMissingMaxAge INTEGER,\n",
    "        circumstancesOfDisappearance TEXT,\n",
    "        sex TEXT,\n",
    "        hairColor TEXT,\n",
    "        leftEyeColor TEXT,\n",
    "        rightEyeColor TEXT,\n",
    "        ethnicity TEXT,\n",
    "        sightingDate TEXT,\n",
    "        sightingCity TEXT,\n",
    "        sightingState TEXT,\n",
    "        sightingCounty TEXT,\n",
    "        imageHref TEXT,\n",
    "        sightingLat FLOAT,\n",
    "        sightingLon FLOAT,\n",
    "        primaryAgencyName TEXT,\n",
    "        investigatingAgencyName TEXT,\n",
    "        investigatingCaseNumber TEXT,\n",
    "        caseDateReported TEXT,\n",
    "        permissionToPublish BOOLEAN,\n",
    "        viewPermission TEXT,\n",
    "        hrefThumbnail TEXT,\n",
    "        hrefQRCode TEXT,\n",
    "        caseIsResolved BOOLEAN,\n",
    "        vehicles JSON\n",
    "    )\n",
    "\"\"\")"
   ]
  },
  {
   "cell_type": "code",
   "execution_count": 8,
   "metadata": {},
   "outputs": [],
   "source": [
    "take = 100  # Número de registros por requisição\n",
    "skip = 4300      # Ponto de partida para cada página de resultados\n",
    "url = 'https://www.namus.gov/api/CaseSets/NamUs/MissingPersons/Search'\n",
    "\n",
    "# Configuração inicial da requisição\n",
    "payload = {\n",
    "    \"predicates\": [],\n",
    "    \"take\": 50,\n",
    "    \"skip\": 0,\n",
    "    \"projections\": [\n",
    "        \"idFormatted\",\n",
    "        \"dateOfLastContact\",\n",
    "        \"lastName\",\n",
    "        \"firstName\",\n",
    "        \"computedMissingMinAge\",\n",
    "        \"computedMissingMaxAge\",\n",
    "        \"cityOfLastContact\",\n",
    "        \"countyDisplayNameOfLastContact\",\n",
    "        \"stateDisplayNameOfLastContact\",\n",
    "        \"gender\",\n",
    "        \"raceEthnicity\",\n",
    "        \"modifiedDateTime\",\n",
    "        \"namus2Number\"\n",
    "    ],\n",
    "    \"orderSpecifications\": [\n",
    "        {\n",
    "            \"field\": \"dateOfLastContact\",\n",
    "            \"direction\": \"Descending\"\n",
    "        }\n",
    "    ],\n",
    "    \"documentFragments\": [\n",
    "        \"birthDate\"\n",
    "    ]\n",
    "}"
   ]
  },
  {
   "cell_type": "code",
   "execution_count": 9,
   "metadata": {},
   "outputs": [
    {
     "name": "stderr",
     "output_type": "stream",
     "text": [
      "Baixando registros: 100%|██████████| 10000/10000 [1:55:50<00:00,  1.24s/it]\n"
     ]
    }
   ],
   "source": [
    "# Primeira requisição para obter o total de registros\n",
    "data = make_request(url, payload, headers)\n",
    "\n",
    "total_count = 10000 #data['count']\n",
    "save_records_to_duckdb(data['results'], conn)\n",
    "skip += take\n",
    "\n",
    "with tqdm(total=total_count, initial=skip, desc=\"Baixando registros\") as pbar:\n",
    "\twhile skip < total_count:\n",
    "\t\tif skip + take > total_count:\n",
    "\t\t\ttake = total_count - skip  # Ajusta `take` para baixar apenas o necessário\n",
    "                \n",
    "\t\tpayload['skip'] = skip\n",
    "\t\tpayload['take'] = take\n",
    "\t\n",
    "\t\tdata = make_request(url, payload, headers)\n",
    "\t\t\n",
    "\t\tsave_records_to_duckdb(data['results'], conn)\n",
    "\t\tpbar.update(len(data['results']))\n",
    "\t\tskip += take"
   ]
  },
  {
   "cell_type": "code",
   "execution_count": 10,
   "metadata": {},
   "outputs": [],
   "source": [
    "conn.close()"
   ]
  }
 ],
 "metadata": {
  "kernelspec": {
   "display_name": "base",
   "language": "python",
   "name": "python3"
  },
  "language_info": {
   "codemirror_mode": {
    "name": "ipython",
    "version": 3
   },
   "file_extension": ".py",
   "mimetype": "text/x-python",
   "name": "python",
   "nbconvert_exporter": "python",
   "pygments_lexer": "ipython3",
   "version": "3.11.8"
  }
 },
 "nbformat": 4,
 "nbformat_minor": 2
}
